{
 "cells": [
  {
   "cell_type": "markdown",
   "id": "9f69c1df",
   "metadata": {},
   "source": [
    "# Importing libraries to perform different operations on image dataset"
   ]
  },
  {
   "cell_type": "code",
   "execution_count": 2,
   "id": "98050acc",
   "metadata": {},
   "outputs": [],
   "source": [
    "from keras.preprocessing import image\n",
    "import matplotlib.pyplot as plt\n",
    "import pandas as pd\n",
    "import numpy as np\n",
    "import tensorflow\n",
    "import shutil\n",
    "import keras\n",
    "import os"
   ]
  },
  {
   "cell_type": "markdown",
   "id": "9073e273",
   "metadata": {},
   "source": [
    "# access csv file containing metadata and visualize data distribution"
   ]
  },
  {
   "cell_type": "code",
   "execution_count": 4,
   "id": "1b0756df",
   "metadata": {},
   "outputs": [
    {
     "data": {
      "image/png": "[encoded data removed]",
      "text/plain": [
       "<Figure size 600x400 with 1 Axes>"
      ]
     },
     "metadata": {
      "needs_background": "light"
     },
     "output_type": "display_data"
    }
   ],
   "source": [
    "import seaborn as sns\n",
    "df = pd.read_csv('/home/m.tabassum/Transfer_learning_17_10_2022/bee_data.csv')\n",
    "plt.figure(dpi=100)\n",
    "ax = sns.countplot(x=df['health'])\n",
    "ax.set_xticklabels(df['health'].unique(), rotation=40, ha=\"right\")\n",
    "ax.set_title(\"Bee Health\",fontdict={'fontsize':'xx-large','fontweight':'bold','fontfamily':'serif','color':'red'})\n",
    "ax.set_xlabel(\"\")\n",
    "ax.set_ylabel(\"\")\n",
    "sns.despine()\n"
   ]
  },
  {
   "cell_type": "markdown",
   "id": "4e3f1b56",
   "metadata": {},
   "source": [
    "# displaying the first five rows of data frame"
   ]
  },
  {
   "cell_type": "code",
   "execution_count": 5,
   "id": "750338cf",
   "metadata": {},
   "outputs": [
    {
     "data": {
      "text/html": [
       "<div>\n",
       "<style scoped>\n",
       "    .dataframe tbody tr th:only-of-type {\n",
       "        vertical-align: middle;\n",
       "    }\n",
       "\n",
       "    .dataframe tbody tr th {\n",
       "        vertical-align: top;\n",
       "    }\n",
       "\n",
       "    .dataframe thead th {\n",
       "        text-align: right;\n",
       "    }\n",
       "</style>\n",
       "<table border=\"1\" class=\"dataframe\">\n",
       "  <thead>\n",
       "    <tr style=\"text-align: right;\">\n",
       "      <th></th>\n",
       "      <th>file</th>\n",
       "      <th>date</th>\n",
       "      <th>time</th>\n",
       "      <th>location</th>\n",
       "      <th>zip code</th>\n",
       "      <th>subspecies</th>\n",
       "      <th>health</th>\n",
       "      <th>pollen_carrying</th>\n",
       "      <th>caste</th>\n",
       "    </tr>\n",
       "  </thead>\n",
       "  <tbody>\n",
       "    <tr>\n",
       "      <th>0</th>\n",
       "      <td>041_066.png</td>\n",
       "      <td>8/28/18</td>\n",
       "      <td>16:07</td>\n",
       "      <td>Alvin, TX, USA</td>\n",
       "      <td>77511</td>\n",
       "      <td>-1</td>\n",
       "      <td>hive being robbed</td>\n",
       "      <td>False</td>\n",
       "      <td>worker</td>\n",
       "    </tr>\n",
       "    <tr>\n",
       "      <th>1</th>\n",
       "      <td>041_072.png</td>\n",
       "      <td>8/28/18</td>\n",
       "      <td>16:07</td>\n",
       "      <td>Alvin, TX, USA</td>\n",
       "      <td>77511</td>\n",
       "      <td>-1</td>\n",
       "      <td>hive being robbed</td>\n",
       "      <td>False</td>\n",
       "      <td>worker</td>\n",
       "    </tr>\n",
       "    <tr>\n",
       "      <th>2</th>\n",
       "      <td>041_073.png</td>\n",
       "      <td>8/28/18</td>\n",
       "      <td>16:07</td>\n",
       "      <td>Alvin, TX, USA</td>\n",
       "      <td>77511</td>\n",
       "      <td>-1</td>\n",
       "      <td>hive being robbed</td>\n",
       "      <td>False</td>\n",
       "      <td>worker</td>\n",
       "    </tr>\n",
       "    <tr>\n",
       "      <th>3</th>\n",
       "      <td>041_067.png</td>\n",
       "      <td>8/28/18</td>\n",
       "      <td>16:07</td>\n",
       "      <td>Alvin, TX, USA</td>\n",
       "      <td>77511</td>\n",
       "      <td>-1</td>\n",
       "      <td>hive being robbed</td>\n",
       "      <td>False</td>\n",
       "      <td>worker</td>\n",
       "    </tr>\n",
       "    <tr>\n",
       "      <th>4</th>\n",
       "      <td>041_059.png</td>\n",
       "      <td>8/28/18</td>\n",
       "      <td>16:07</td>\n",
       "      <td>Alvin, TX, USA</td>\n",
       "      <td>77511</td>\n",
       "      <td>-1</td>\n",
       "      <td>hive being robbed</td>\n",
       "      <td>False</td>\n",
       "      <td>worker</td>\n",
       "    </tr>\n",
       "  </tbody>\n",
       "</table>\n",
       "</div>"
      ],
      "text/plain": [
       "          file     date   time        location  zip code subspecies  \\\n",
       "0  041_066.png  8/28/18  16:07  Alvin, TX, USA     77511         -1   \n",
       "1  041_072.png  8/28/18  16:07  Alvin, TX, USA     77511         -1   \n",
       "2  041_073.png  8/28/18  16:07  Alvin, TX, USA     77511         -1   \n",
       "3  041_067.png  8/28/18  16:07  Alvin, TX, USA     77511         -1   \n",
       "4  041_059.png  8/28/18  16:07  Alvin, TX, USA     77511         -1   \n",
       "\n",
       "              health  pollen_carrying   caste  \n",
       "0  hive being robbed            False  worker  \n",
       "1  hive being robbed            False  worker  \n",
       "2  hive being robbed            False  worker  \n",
       "3  hive being robbed            False  worker  \n",
       "4  hive being robbed            False  worker  "
      ]
     },
     "execution_count": 5,
     "metadata": {},
     "output_type": "execute_result"
    }
   ],
   "source": [
    "df.head()"
   ]
  },
  {
   "cell_type": "markdown",
   "id": "35bfb8bd",
   "metadata": {},
   "source": [
    "#  downsampling the healthy bee images"
   ]
  },
  {
   "cell_type": "code",
   "execution_count": 6,
   "id": "f01c1f04",
   "metadata": {},
   "outputs": [],
   "source": [
    "from sklearn.utils import shuffle\n",
    "# take a random sample of class 'healthy'\n",
    "HEALTHY_SAMPLE_SIZE = 579\n",
    "df_data = pd.read_csv('/home/m.tabassum/Transfer_learning_17_10_2022/bee_data.csv')\n",
    "df = df_data[df_data['health'] == 'healthy'].sample(HEALTHY_SAMPLE_SIZE, random_state=101)\n",
    "\n",
    "# remove class 'healthy' from the dataframe\n",
    "df_data = df_data[df_data['health'] != 'healthy']\n",
    "\n",
    "# concat df and df_data\n",
    "df_data = pd.concat([df_data, df], axis=0).reset_index(drop=True)\n",
    "\n",
    "# shuffle the new dataframe\n",
    "df_data = shuffle(df_data)"
   ]
  },
  {
   "cell_type": "markdown",
   "id": "6e459a98",
   "metadata": {},
   "source": [
    "# visualizing data distribution after downsampling"
   ]
  },
  {
   "cell_type": "code",
   "execution_count": 7,
   "id": "4f576402",
   "metadata": {},
   "outputs": [
    {
     "data": {
      "text/plain": [
       "Text(0.5, 1.0, 'Downsampled dataset')"
      ]
     },
     "execution_count": 7,
     "metadata": {},
     "output_type": "execute_result"
    },
    {
     "data": {
      "image/png": "[encoded data removed]",
      "text/plain": [
       "<Figure size 600x400 with 1 Axes>"
      ]
     },
     "metadata": {
      "needs_background": "light"
     },
     "output_type": "display_data"
    }
   ],
   "source": [
    "plt.figure(dpi = 100)\n",
    "ax = sns.countplot(x = df_data['health'])\n",
    "ax.set_xticklabels(df_data['health'].unique(), rotation = 40, ha = 'right')\n",
    "sns.despine()\n",
    "ax.set_title('Downsampled dataset', fontdict={'fontsize':'xx-large','fontweight':'bold','fontfamily':'serif','color':'red'})"
   ]
  },
  {
   "cell_type": "markdown",
   "id": "9b7bbee3",
   "metadata": {},
   "source": [
    "# distribution of whole data into train set and test set"
   ]
  },
  {
   "cell_type": "code",
   "execution_count": 8,
   "id": "a627b10c",
   "metadata": {},
   "outputs": [
    {
     "name": "stdout",
     "output_type": "stream",
     "text": [
      "(2130, 9)\n",
      "(237, 9)\n"
     ]
    }
   ],
   "source": [
    "from sklearn.model_selection import train_test_split\n",
    "labels = df_data['health']\n",
    "# stratify assures the same imbalance ratio in train and test sets\n",
    "df_train, df_val = train_test_split(df_data, test_size=0.1, random_state=101, stratify=labels) \n",
    "\n",
    "# Set the 'file' column as the index in df_data\n",
    "df_data.set_index('file', inplace=True)\n",
    "\n",
    "print(df_train.shape)\n",
    "print(df_val.shape)"
   ]
  },
  {
   "cell_type": "markdown",
   "id": "c714e36a",
   "metadata": {},
   "source": [
    "# create folder structure"
   ]
  },
  {
   "cell_type": "code",
   "execution_count": null,
   "id": "5e6f2229",
   "metadata": {},
   "outputs": [],
   "source": [
    "# Create a new directory\n",
    "isdir = os.path.isdir(\"base_dirr\")\n",
    "if isdir:\n",
    "    print(\"directory already exits\")\n",
    "else:\n",
    "    base_dir = 'base_dir'\n",
    "    os.mkdir(base_dir)\n",
    "\n",
    "\n",
    "    #[CREATE FOLDERS INSIDE THE BASE DIRECTORY]\n",
    "\n",
    "    # train_dir\n",
    "        # 1_healthy\n",
    "        # 2_fvar\n",
    "        # 3_var\n",
    "        # 4_ant\n",
    "        # 5_robbed\n",
    "        # 6_queen\n",
    "\n",
    "    # val_dir\n",
    "        # 1_healthy\n",
    "        # 2_fvar\n",
    "        # 3_var\n",
    "        # 4_ant\n",
    "        # 5_robbed\n",
    "        # 6_queen\n",
    "\n",
    "    # create a path to 'base_dir' to which we will join the names of the new folders\n",
    "\n",
    "    # train_dir\n",
    "    train_dir = os.path.join(base_dir, 'train_dir')\n",
    "    os.mkdir(train_dir)\n",
    "\n",
    "    # val_dir\n",
    "    val_dir = os.path.join(base_dir, 'val_dir')\n",
    "    os.mkdir(val_dir)\n",
    "\n",
    "\n",
    "    # [CREATE FOLDERS INSIDE THE TRAIN AND VALIDATION FOLDERS]\n",
    "    # Inside each folder we create seperate folders for each class\n",
    "\n",
    "    # create new folders inside train_dir\n",
    "    healthy = os.path.join(train_dir, '1_healthy')\n",
    "    os.mkdir(healthy)\n",
    "    fvar = os.path.join(train_dir, '2_fvar')\n",
    "    os.mkdir(fvar)\n",
    "    var = os.path.join(train_dir, '3_var')\n",
    "    os.mkdir(var)\n",
    "    ant = os.path.join(train_dir, '4_ant')\n",
    "    os.mkdir(ant)\n",
    "    robbed = os.path.join(train_dir, '5_robbed')\n",
    "    os.mkdir(robbed)\n",
    "    queen = os.path.join(train_dir, '6_queen')\n",
    "    os.mkdir(queen)\n",
    "\n",
    "\n",
    "    # create new folders inside val_dir\n",
    "    healthy = os.path.join(val_dir, '1_healthy')\n",
    "    os.mkdir(healthy)\n",
    "    fvar = os.path.join(val_dir, '2_fvar')\n",
    "    os.mkdir(fvar)\n",
    "    var = os.path.join(val_dir, '3_var')\n",
    "    os.mkdir(var)\n",
    "    ant = os.path.join(val_dir, '4_ant')\n",
    "    os.mkdir(ant)\n",
    "    robbed = os.path.join(val_dir, '5_robbed')\n",
    "    os.mkdir(robbed)\n",
    "    queen = os.path.join(val_dir, '6_queen')\n",
    "    os.mkdir(queen)"
   ]
  },
  {
   "cell_type": "markdown",
   "id": "7f30aac5",
   "metadata": {},
   "source": [
    "# labeling of dataset and transfering of images into folders"
   ]
  },
  {
   "cell_type": "code",
   "execution_count": null,
   "id": "08c27597",
   "metadata": {},
   "outputs": [],
   "source": [
    "# Get a list of train and val images\n",
    "train_dir = \"/home/m.tabassum/Transfer_learning_17_10_2022/base_dir/train_dir\"\n",
    "val_dir = \"/home/m.tabassum/Transfer_learning_17_10_2022/base_dir/val_dir\"\n",
    "\n",
    "train_list = list(df_train['file'])\n",
    "val_list = list(df_val['file'])\n",
    "\n",
    "# Key:\n",
    "# healthy = healthy\n",
    "# fvar = few varrao, hive beetles\n",
    "# var = Varroa, Small Hive Beetles\n",
    "# ant = ant problems\n",
    "# robbed = hive being robbed\n",
    "# queen = missing queen\n",
    "\n",
    "\n",
    "\n",
    "# Transfer the train images.\n",
    "# Note that we re-name the files during the transfer using a number sequence. This is just a\n",
    "# safety measure help the generators create a repeatable sequence of images. \n",
    "# Otherwise I think they could mix them up and give us confusing results.\n",
    "\n",
    "length = len(train_list)\n",
    "\n",
    "for i in range(0,length):\n",
    "    \n",
    "    fname = train_list[i]\n",
    "    image = fname\n",
    "    description = df_data.loc[image,'health']\n",
    "    \n",
    "    # map the class descriptions to folder names\n",
    "    if description == 'healthy':\n",
    "        label = '1_healthy'\n",
    "    if description == 'few varrao, hive beetles':\n",
    "        label = '2_fvar'\n",
    "    if description == 'Varroa, Small Hive Beetles':\n",
    "        label = '3_var'\n",
    "    if description == 'ant problems':\n",
    "        label = '4_ant'\n",
    "    if description == 'hive being robbed':\n",
    "        label = '5_robbed'\n",
    "    if description == 'missing queen':\n",
    "        label = '6_queen'\n",
    "        \n",
    "        \n",
    "    # source path to image\n",
    "    src = os.path.join('/home/m.tabassum/Transfer_learning_17_10_2022/archive/bee_imgs/bee_imgs', fname)\n",
    "    # chage the file name\n",
    "    new_name = str(i) + '_' + 'train'+ '.png'\n",
    "    # destination path to image\n",
    "    dst = os.path.join(train_dir, label, new_name)\n",
    "    # copy the image from the source to the destination\n",
    "    shutil.copyfile(src, dst)\n",
    "\n",
    "\n",
    "# Transfer the val images\n",
    "\n",
    "length = len(val_list)\n",
    "\n",
    "for i in range(0,length):\n",
    "    \n",
    "    fname = val_list[i]\n",
    "    image = fname\n",
    "    description = df_data.loc[image,'health']\n",
    "    \n",
    "     # map the class descriptions to folder names\n",
    "    if description == 'healthy':\n",
    "        label = '1_healthy'\n",
    "    if description == 'few varrao, hive beetles':\n",
    "        label = '2_fvar'\n",
    "    if description == 'Varroa, Small Hive Beetles':\n",
    "        label = '3_var'\n",
    "    if description == 'ant problems':\n",
    "        label = '4_ant'\n",
    "    if description == 'hive being robbed':\n",
    "        label = '5_robbed'\n",
    "    if description == 'missing queen':\n",
    "        label = '6_queen'\n",
    "    \n",
    "    # source path to image\n",
    "    src = os.path.join('/home/m.tabassum/Transfer_learning_17_10_2022/archive/bee_imgs/bee_imgs', fname)\n",
    "    # chage the file name\n",
    "    new_name = str(i) + '_' + 'val' + '.png'\n",
    "    # destination path to image\n",
    "    dst = os.path.join(val_dir, label, new_name)\n",
    "    # copy the image from the source to the destination\n",
    "    shutil.copyfile(src, dst)\n"
   ]
  },
  {
   "cell_type": "markdown",
   "id": "96072c62",
   "metadata": {},
   "source": [
    "# Check number of train images before augmentation of each class"
   ]
  },
  {
   "cell_type": "code",
   "execution_count": null,
   "id": "41122022",
   "metadata": {},
   "outputs": [],
   "source": [
    "# check how many train images we have in each folder\n",
    "\n",
    "print(len(os.listdir('base_dir/train_dir/1_healthy')))\n",
    "print(len(os.listdir('base_dir/train_dir/2_fvar')))\n",
    "print(len(os.listdir('base_dir/train_dir/3_var')))\n",
    "print(len(os.listdir('base_dir/train_dir/4_ant')))\n",
    "print(len(os.listdir('base_dir/train_dir/5_robbed')))\n",
    "print(len(os.listdir('base_dir/train_dir/6_queen')))"
   ]
  },
  {
   "cell_type": "markdown",
   "id": "ae28a420",
   "metadata": {},
   "source": [
    "# Check number of validation images before augmentation of each class"
   ]
  },
  {
   "cell_type": "code",
   "execution_count": null,
   "id": "9428a6dc",
   "metadata": {},
   "outputs": [],
   "source": [
    "# check how many val images we have in each folder\n",
    "\n",
    "print(len(os.listdir('base_dir/val_dir/1_healthy')))\n",
    "print(len(os.listdir('base_dir/val_dir/2_fvar')))\n",
    "print(len(os.listdir('base_dir/val_dir/3_var')))\n",
    "print(len(os.listdir('base_dir/val_dir/4_ant')))\n",
    "print(len(os.listdir('base_dir/val_dir/5_robbed')))\n",
    "print(len(os.listdir('base_dir/val_dir/6_queen')))"
   ]
  },
  {
   "cell_type": "markdown",
   "id": "4fdb6ac6",
   "metadata": {},
   "source": [
    "# Augmenting images of each class except healthy class"
   ]
  },
  {
   "cell_type": "code",
   "execution_count": null,
   "id": "e468f3c5",
   "metadata": {},
   "outputs": [],
   "source": [
    "from tensorflow.keras.preprocessing.image import ImageDataGenerator\n",
    "# note that we are not augmenting class 'healthy'\n",
    "NUM_IMAGES_WANTED = 1000 # incl. class 'healthy'\n",
    "\n",
    "# MobileNet needs input images with shape 224x224x3\n",
    "IMAGE_SIZE = 224\n",
    "IMAGE_CHANNELS = 3\n",
    "class_list = ['1_healthy', '2_fvar','3_var','4_ant','5_robbed','6_queen']\n",
    "\n",
    "for item in class_list:\n",
    "    \n",
    "    # We are creating temporary directories here because we delete these directories later.\n",
    "    \n",
    "    # create a base dir\n",
    "    aug_dir = 'aug_dir'\n",
    "    os.mkdir(aug_dir)\n",
    "    # create a dir within the base dir to store images of the same class\n",
    "    img_dir = os.path.join(aug_dir, 'img_dir')\n",
    "    os.mkdir(img_dir)\n",
    "\n",
    "    # Choose a class\n",
    "    img_class = item\n",
    "\n",
    "    # list all images in that directory\n",
    "    img_list = os.listdir('base_dir/train_dir/' + img_class)\n",
    "\n",
    "    # Copy images from the class train dir to the img_dir e.g. class 'healthy'\n",
    "    for fname in img_list:\n",
    "            # source path to image\n",
    "            src = os.path.join('base_dir/train_dir/' + img_class, fname)\n",
    "            # destination path to image\n",
    "            dst = os.path.join(img_dir, fname)\n",
    "            # copy the image from the source to the destination\n",
    "            shutil.copyfile(src, dst)\n",
    "\n",
    "\n",
    "    # point to a dir containing the images and NOT to the images themselves\n",
    "    path = aug_dir\n",
    "    save_path = 'base_dir/train_dir/' + img_class\n",
    "    \n",
    "    # Create a data generator to generate augmented images for each class.\n",
    "    datagen = ImageDataGenerator(\n",
    "        rotation_range=90,\n",
    "        width_shift_range=0.1,\n",
    "        height_shift_range=0.1,\n",
    "        zoom_range=0.01,\n",
    "        horizontal_flip=True,\n",
    "        #vertical_flip=True,\n",
    "        brightness_range=(0.9,1.1),\n",
    "        fill_mode='nearest')\n",
    "\n",
    "    batch_size = 9\n",
    "\n",
    "    aug_datagen = datagen.flow_from_directory(path,\n",
    "                                        save_to_dir=save_path, # this is where the images are saved\n",
    "                                        save_format='jpg',\n",
    "                                        target_size=(IMAGE_SIZE,IMAGE_SIZE),\n",
    "                                        batch_size=batch_size)\n",
    "\n",
    "\n",
    "\n",
    "    # Generate the augmented images and add them to the training folders\n",
    "    \n",
    "    # NUM_IMAGES_WANTED = total number of images we want to have in each class\n",
    "    # We will use image augmentation to create the additional images.\n",
    "    \n",
    "    num_files = len(os.listdir(img_dir))\n",
    "    \n",
    "    # Just a calculation to get approx. the same amount of images for each class.\n",
    "    num_batches = int(np.ceil((NUM_IMAGES_WANTED-num_files)/batch_size))\n",
    "\n",
    "    # Run the generator and create augmented images.\n",
    "    # Note that these images are automatically stored in a folder. The path\n",
    "    # to the save folder is specified as a parameter in the generator above.\n",
    "    for i in range(0,num_batches):\n",
    "\n",
    "        imgs, labels = next(aug_datagen)\n",
    "        \n",
    "    # delete temporary directory with the raw image files\n",
    "    shutil.rmtree('aug_dir')"
   ]
  },
  {
   "cell_type": "markdown",
   "id": "5cfd69a9",
   "metadata": {},
   "source": [
    "# Check number of train images after augmentation of each class"
   ]
  },
  {
   "cell_type": "code",
   "execution_count": null,
   "id": "5ec445a4",
   "metadata": {},
   "outputs": [],
   "source": [
    "# Check how many train images we now have in each folder.\n",
    "# This is the original images plus the augmented images.\n",
    "\n",
    "print(len(os.listdir('base_dir/train_dir/1_healthy')))\n",
    "print(len(os.listdir('base_dir/train_dir/2_fvar')))\n",
    "print(len(os.listdir('base_dir/train_dir/3_var')))\n",
    "print(len(os.listdir('base_dir/train_dir/4_ant')))\n",
    "print(len(os.listdir('base_dir/train_dir/5_robbed')))\n",
    "print(len(os.listdir('base_dir/train_dir/6_queen')))"
   ]
  },
  {
   "cell_type": "markdown",
   "id": "aa4769c2",
   "metadata": {},
   "source": [
    "# Check number of train images after augmentation of each class"
   ]
  },
  {
   "cell_type": "code",
   "execution_count": null,
   "id": "28bd12a4",
   "metadata": {},
   "outputs": [],
   "source": [
    "# Check how many val images we have in each folder.\n",
    "\n",
    "print(len(os.listdir('base_dir/val_dir/1_healthy')))\n",
    "print(len(os.listdir('base_dir/val_dir/2_fvar')))\n",
    "print(len(os.listdir('base_dir/val_dir/3_var')))\n",
    "print(len(os.listdir('base_dir/val_dir/4_ant')))\n",
    "print(len(os.listdir('base_dir/val_dir/5_robbed')))\n",
    "print(len(os.listdir('base_dir/val_dir/6_queen')))"
   ]
  },
  {
   "cell_type": "markdown",
   "id": "24f4b45b",
   "metadata": {},
   "source": [
    "# defining train/val path and variablesfor the model"
   ]
  },
  {
   "cell_type": "code",
   "execution_count": 9,
   "id": "3d72fe4c",
   "metadata": {},
   "outputs": [],
   "source": [
    "train_path = 'base_dir/train_dir'\n",
    "valid_path = 'base_dir/val_dir'\n",
    "\n",
    "num_train_samples = len(df_train)\n",
    "num_val_samples = len(df_val)\n",
    "train_batch_size = 10\n",
    "val_batch_size = 10\n",
    "image_size = 224\n",
    "\n",
    "train_steps = np.ceil(num_train_samples / train_batch_size)\n",
    "val_steps = np.ceil(num_val_samples / val_batch_size)"
   ]
  },
  {
   "cell_type": "markdown",
   "id": "3ee741d7",
   "metadata": {},
   "source": [
    "# fetching the data from the directories using data generators"
   ]
  },
  {
   "cell_type": "code",
   "execution_count": 19,
   "id": "dbd811fa",
   "metadata": {},
   "outputs": [
    {
     "name": "stdout",
     "output_type": "stream",
     "text": [
      "Found 5065 images belonging to 6 classes.\n",
      "Found 892 images belonging to 6 classes.\n",
      "Found 237 images belonging to 6 classes.\n"
     ]
    }
   ],
   "source": [
    "from tensorflow.keras.preprocessing.image import ImageDataGenerator\n",
    "from keras.applications.mobilenet import preprocess_input\n",
    "datagen = ImageDataGenerator(preprocessing_function=\n",
    "                             tensorflow.keras.applications.mobilenet.preprocess_input, validation_split=0.15)\n",
    "\n",
    "train_gen = datagen.flow_from_directory(train_path,\n",
    "                                        target_size=(image_size,image_size),\n",
    "                                        batch_size=train_batch_size,\n",
    "                                        subset = \"training\",\n",
    "                                        class_mode='categorical')\n",
    "\n",
    "val_gen = datagen.flow_from_directory(train_path,\n",
    "                                        target_size=(image_size,image_size),\n",
    "                                        batch_size=val_batch_size,\n",
    "                                        subset = \"validation\",\n",
    "                                        class_mode='categorical')\n",
    "\n",
    "# Note: shuffle=False causes the test dataset to not be shuffled.\n",
    "# Here we will be using the val set as the test dataset because we need to run predict\n",
    "# in order to generate the confusion matrix.\n",
    "test_gen = datagen.flow_from_directory(valid_path,\n",
    "                                        target_size=(image_size,image_size),\n",
    "                                        batch_size=1,\n",
    "                                        class_mode='categorical',\n",
    "                                        shuffle=False)"
   ]
  },
  {
   "cell_type": "markdown",
   "id": "9130242d",
   "metadata": {},
   "source": [
    "# modify the mobilenet model"
   ]
  },
  {
   "cell_type": "code",
   "execution_count": 20,
   "id": "010fbdd8",
   "metadata": {},
   "outputs": [
    {
     "name": "stdout",
     "output_type": "stream",
     "text": [
      "WARNING:tensorflow:`input_shape` is undefined or non-square, or `rows` is not in [128, 160, 192, 224]. Weights for input shape (224, 224) will be loaded as the default.\n"
     ]
    },
    {
     "name": "stderr",
     "output_type": "stream",
     "text": [
      "2022-10-31 15:04:58.582299: I tensorflow/core/platform/cpu_feature_guard.cc:193] This TensorFlow binary is optimized with oneAPI Deep Neural Network Library (oneDNN) to use the following CPU instructions in performance-critical operations:  AVX2 AVX512F AVX512_VNNI FMA\n",
      "To enable them in other operations, rebuild TensorFlow with the appropriate compiler flags.\n",
      "2022-10-31 15:04:58.604236: I tensorflow/compiler/xla/service/service.cc:170] XLA service 0x5617d1f85930 initialized for platform Host (this does not guarantee that XLA will be used). Devices:\n",
      "2022-10-31 15:04:58.604275: I tensorflow/compiler/xla/service/service.cc:178]   StreamExecutor device (0): Host, Default Version\n",
      "2022-10-31 15:04:59.133062: I tensorflow/core/common_runtime/gpu/gpu_device.cc:1532] Created device /job:localhost/replica:0/task:0/device:GPU:0 with 30985 MB memory:  -> device: 0, name: Tesla V100-PCIE-32GB, pci bus id: 0000:3b:00.0, compute capability: 7.0\n",
      "2022-10-31 15:04:59.139313: I tensorflow/compiler/xla/service/service.cc:170] XLA service 0x5617e59a4210 initialized for platform CUDA (this does not guarantee that XLA will be used). Devices:\n",
      "2022-10-31 15:04:59.139332: I tensorflow/compiler/xla/service/service.cc:178]   StreamExecutor device (0): Tesla V100-PCIE-32GB, Compute Capability 7.0\n"
     ]
    }
   ],
   "source": [
    "# develop model\n",
    "from tensorflow.keras.models import Model\n",
    "from tensorflow.keras.layers import Dense, Activation\n",
    "from keras.layers import GlobalAveragePooling2D\n",
    "from keras.applications import MobileNet\n",
    "\n",
    "base_model=MobileNet(weights='imagenet',include_top=False) #imports the mobilenet model and discards the last 1000 neuron layer.\n",
    "\n",
    "x=base_model.output\n",
    "x=GlobalAveragePooling2D()(x)\n",
    "x=Dense(224,activation='relu')(x) #we add dense layers so that the model can learn more complex functions and classify for better results.\n",
    "x=Dense(128,activation='relu')(x) #dense layer 2\n",
    "x=Dense(64,activation='relu')(x) #dense layer 3\n",
    "\n",
    "preds=Dense(6,activation='softmax')(x) #final layer with softmax activation\n",
    "model = Model(inputs=base_model.input,outputs=preds)\n",
    "# visualkeras.layered_view(model)"
   ]
  },
  {
   "cell_type": "markdown",
   "id": "851a4157",
   "metadata": {},
   "source": [
    "# compile and train the model"
   ]
  },
  {
   "cell_type": "code",
   "execution_count": 21,
   "id": "d4a48bcc",
   "metadata": {},
   "outputs": [
    {
     "name": "stdout",
     "output_type": "stream",
     "text": [
      "Epoch 1/20\n"
     ]
    },
    {
     "name": "stderr",
     "output_type": "stream",
     "text": [
      "/tmp/ipykernel_1291499/2476433185.py:20: UserWarning: `Model.fit_generator` is deprecated and will be removed in a future version. Please use `Model.fit`, which supports generators.\n",
      "  history = model.fit_generator(generator=train_gen,\n",
      "2022-10-31 15:05:02.413498: I tensorflow/stream_executor/cuda/cuda_dnn.cc:384] Loaded cuDNN version 8302\n"
     ]
    },
    {
     "name": "stdout",
     "output_type": "stream",
     "text": [
      "100/100 [==============================] - 9s 54ms/step - loss: 1.1129 - accuracy: 0.5910 - val_loss: 1.2079 - val_accuracy: 0.4792\n",
      "Epoch 2/20\n",
      "100/100 [==============================] - 5s 48ms/step - loss: 0.5264 - accuracy: 0.8140 - val_loss: 0.4821 - val_accuracy: 0.8125\n",
      "Epoch 3/20\n",
      "100/100 [==============================] - 5s 49ms/step - loss: 0.3565 - accuracy: 0.8784 - val_loss: 0.3848 - val_accuracy: 0.8542\n",
      "Epoch 4/20\n",
      "100/100 [==============================] - 5s 48ms/step - loss: 0.2960 - accuracy: 0.8940 - val_loss: 0.1821 - val_accuracy: 0.9333\n",
      "Epoch 5/20\n",
      "100/100 [==============================] - 5s 48ms/step - loss: 0.2221 - accuracy: 0.9240 - val_loss: 0.1440 - val_accuracy: 0.9417\n",
      "Epoch 6/20\n",
      "100/100 [==============================] - 5s 47ms/step - loss: 0.1958 - accuracy: 0.9310 - val_loss: 0.1533 - val_accuracy: 0.9333\n",
      "Epoch 7/20\n",
      "100/100 [==============================] - 5s 47ms/step - loss: 0.1948 - accuracy: 0.9250 - val_loss: 0.1318 - val_accuracy: 0.9583\n",
      "Epoch 8/20\n",
      "100/100 [==============================] - 5s 47ms/step - loss: 0.1618 - accuracy: 0.9440 - val_loss: 0.1230 - val_accuracy: 0.9583\n",
      "Epoch 9/20\n",
      "100/100 [==============================] - 5s 47ms/step - loss: 0.1687 - accuracy: 0.9490 - val_loss: 0.0863 - val_accuracy: 0.9625\n",
      "Epoch 10/20\n",
      "100/100 [==============================] - 5s 47ms/step - loss: 0.1087 - accuracy: 0.9600 - val_loss: 0.0811 - val_accuracy: 0.9542\n",
      "Epoch 11/20\n",
      "100/100 [==============================] - 5s 47ms/step - loss: 0.1491 - accuracy: 0.9460 - val_loss: 0.0988 - val_accuracy: 0.9583\n",
      "Epoch 12/20\n",
      "100/100 [==============================] - 5s 47ms/step - loss: 0.1380 - accuracy: 0.9508 - val_loss: 0.0546 - val_accuracy: 0.9833\n",
      "Epoch 13/20\n",
      "100/100 [==============================] - 5s 47ms/step - loss: 0.0778 - accuracy: 0.9750 - val_loss: 0.0669 - val_accuracy: 0.9667\n",
      "Epoch 14/20\n",
      "100/100 [==============================] - 5s 47ms/step - loss: 0.1133 - accuracy: 0.9590 - val_loss: 0.0883 - val_accuracy: 0.9542\n",
      "Epoch 15/20\n",
      "100/100 [==============================] - 5s 47ms/step - loss: 0.0857 - accuracy: 0.9650 - val_loss: 0.0547 - val_accuracy: 0.9792\n",
      "Epoch 16/20\n",
      "100/100 [==============================] - 5s 46ms/step - loss: 0.0797 - accuracy: 0.9730 - val_loss: 0.1277 - val_accuracy: 0.9458\n",
      "Epoch 17/20\n",
      "100/100 [==============================] - 5s 47ms/step - loss: 0.1147 - accuracy: 0.9500 - val_loss: 0.1051 - val_accuracy: 0.9583\n",
      "Epoch 18/20\n",
      "100/100 [==============================] - 5s 47ms/step - loss: 0.0756 - accuracy: 0.9750 - val_loss: 0.1246 - val_accuracy: 0.9667\n",
      "Epoch 19/20\n",
      "100/100 [==============================] - 5s 47ms/step - loss: 0.0622 - accuracy: 0.9770 - val_loss: 0.1030 - val_accuracy: 0.9625\n",
      "Epoch 20/20\n",
      "100/100 [==============================] - 5s 48ms/step - loss: 0.0823 - accuracy: 0.9740 - val_loss: 0.1723 - val_accuracy: 0.9500\n"
     ]
    }
   ],
   "source": [
    "from tensorflow.keras.callbacks import EarlyStopping, ReduceLROnPlateau, ModelCheckpoint\n",
    "from tensorflow.keras.optimizers import Adam, SGD\n",
    "from tensorflow.keras.metrics import categorical_crossentropy\n",
    "\n",
    "Adam = tensorflow.keras.optimizers.Adam(\n",
    "    learning_rate=0.0001,\n",
    "    beta_1=0.9,\n",
    "    beta_2=0.999,\n",
    "    epsilon=1e-07,\n",
    "    amsgrad=False,\n",
    "    name='Adam'\n",
    ")\n",
    "# sgd = tensorflow.keras.optimizers.SGD(learning_rate=0.001)\n",
    "model.compile(optimizer=Adam,loss='categorical_crossentropy',metrics=['accuracy'])\n",
    "# Adam optimizer\n",
    "# loss function will be categorical cross entropy\n",
    "# evaluation metric will be accuracy\n",
    "\n",
    "# step_size_train=train_gen.n//train_gen.batch_size\n",
    "history = model.fit_generator(generator=train_gen,\n",
    "                    validation_data=val_gen,\n",
    "                    validation_steps=val_steps,\n",
    "                    verbose=1,\n",
    "#                    steps_per_epoch=step_size_train,\n",
    "                   steps_per_epoch  = 100,\n",
    "                   epochs=20)"
   ]
  },
  {
   "cell_type": "markdown",
   "id": "342dfef8",
   "metadata": {},
   "source": [
    "# saving the trained model and history"
   ]
  },
  {
   "cell_type": "code",
   "execution_count": 28,
   "id": "4427e09b",
   "metadata": {},
   "outputs": [
    {
     "name": "stderr",
     "output_type": "stream",
     "text": [
      "WARNING:absl:Found untraced functions such as _jit_compiled_convolution_op, _jit_compiled_convolution_op, _jit_compiled_convolution_op, _jit_compiled_convolution_op, _jit_compiled_convolution_op while saving (showing 5 of 27). These functions will not be directly callable after loading.\n"
     ]
    },
    {
     "name": "stdout",
     "output_type": "stream",
     "text": [
      "INFO:tensorflow:Assets written to: version_10/assets\n"
     ]
    },
    {
     "name": "stderr",
     "output_type": "stream",
     "text": [
      "INFO:tensorflow:Assets written to: version_10/assets\n"
     ]
    }
   ],
   "source": [
    "# import random\n",
    "# r = random.randint(0,30)\n",
    "# print(r)\n",
    "model.save('version_'+ str(r))\n",
    "np.save('history_version_'+str(r)+'.npy', history.history)"
   ]
  },
  {
   "cell_type": "markdown",
   "id": "882a1346",
   "metadata": {},
   "source": [
    "# Load the trained model and history"
   ]
  },
  {
   "cell_type": "code",
   "execution_count": null,
   "id": "8585fdbb",
   "metadata": {},
   "outputs": [],
   "source": [
    "# model = keras.models.load_model('version_16')\n",
    "# history = np.load('version_16/history_version_16.npy', allow_pickle = True).item()\n",
    "# acc = history['accuracy']\n",
    "# val_acc = history['val_accuracy']\n",
    "# loss = history['loss']\n",
    "# val_loss = history['val_loss']"
   ]
  },
  {
   "cell_type": "markdown",
   "id": "e6bc05e1",
   "metadata": {},
   "source": [
    "# Visualize the training loss & accuracy, validation loss & accuracy"
   ]
  },
  {
   "cell_type": "code",
   "execution_count": 34,
   "id": "7f132e27",
   "metadata": {
    "scrolled": true
   },
   "outputs": [
    {
     "data": {
      "text/plain": [
       "<matplotlib.legend.Legend at 0x7fce98389670>"
      ]
     },
     "execution_count": 34,
     "metadata": {},
     "output_type": "execute_result"
    },
    {
     "data": {
      "image/png": "[encoded data removed]",
      "text/plain": [
       "<Figure size 1080x360 with 2 Axes>"
      ]
     },
     "metadata": {
      "needs_background": "light"
     },
     "output_type": "display_data"
    }
   ],
   "source": [
    "# display the loss and accuracy curves\n",
    "\n",
    "acc = history.history['accuracy']\n",
    "val_acc = history.history['val_accuracy']\n",
    "loss = history.history['loss']\n",
    "val_loss = history.history['val_loss']\n",
    "\n",
    "epochs = range(1, len(acc) + 1)\n",
    "\n",
    "\n",
    "plt.figure(figsize=(15,5))\n",
    "axes = plt.subplot(1,2,1)\n",
    "axes.plot(epochs, loss, 'r--', label='Training loss')\n",
    "axes.plot(epochs, val_loss, 'b', label='Validation loss')\n",
    "axes.set_title('Training and validation loss')\n",
    "axes.legend()\n",
    "\n",
    "\n",
    "axes = plt.subplot(1,2,2)\n",
    "axes.plot(epochs, acc, 'r--', label='Training acc')\n",
    "axes.plot(epochs, val_acc, 'b', label='Validation acc')\n",
    "axes.set_title('Training and validation accuracy')\n",
    "axes.legend()"
   ]
  },
  {
   "cell_type": "markdown",
   "id": "09143bc6",
   "metadata": {},
   "source": [
    "# make a prediction"
   ]
  },
  {
   "cell_type": "code",
   "execution_count": 24,
   "id": "3d10a2ed",
   "metadata": {},
   "outputs": [
    {
     "name": "stderr",
     "output_type": "stream",
     "text": [
      "/tmp/ipykernel_1291499/331712326.py:1: UserWarning: `Model.predict_generator` is deprecated and will be removed in a future version. Please use `Model.predict`, which supports generators.\n",
      "  predictions = model.predict_generator(test_gen, steps=len(df_val), verbose=1)\n"
     ]
    },
    {
     "name": "stdout",
     "output_type": "stream",
     "text": [
      "237/237 [==============================] - 2s 7ms/step\n"
     ]
    }
   ],
   "source": [
    "predictions = model.predict_generator(test_gen, steps=len(df_val), verbose=1)\n",
    "\n",
    "# Get the index of the class with the highest probability score\n",
    "y_pred = np.argmax(predictions, axis=1)\n",
    "\n",
    "# Get the labels of the test images.\n",
    "y_true = test_gen.classes"
   ]
  },
  {
   "cell_type": "markdown",
   "id": "e1f17007",
   "metadata": {},
   "source": [
    "# create confusion matrix"
   ]
  },
  {
   "cell_type": "code",
   "execution_count": 25,
   "id": "280a67b1",
   "metadata": {},
   "outputs": [
    {
     "data": {
      "image/png": "[encoded data removed]",
      "text/plain": [
       "<Figure size 432x288 with 2 Axes>"
      ]
     },
     "metadata": {
      "needs_background": "light"
     },
     "output_type": "display_data"
    }
   ],
   "source": [
    "from sklearn.metrics import confusion_matrix\n",
    "from sklearn import metrics\n",
    "actual = y_true\n",
    "predicted = y_pred\n",
    "\n",
    "confusion_matrix = metrics.confusion_matrix(actual, predicted)\n",
    "\n",
    "cm_display = metrics.ConfusionMatrixDisplay(confusion_matrix = confusion_matrix, display_labels = ['1_healthy', '2_fvar', '3_var', '4_ant', '5_robbed','6_queen'])\n",
    "\n",
    "cm_display.plot()\n",
    "plt.show()"
   ]
  },
  {
   "cell_type": "markdown",
   "id": "0461291c",
   "metadata": {},
   "source": [
    "#  Evaluating the model on different evualuation metrics"
   ]
  },
  {
   "cell_type": "code",
   "execution_count": 26,
   "id": "ecd1791b",
   "metadata": {},
   "outputs": [
    {
     "name": "stdout",
     "output_type": "stream",
     "text": [
      "                            precision    recall  f1-score   support\n",
      "\n",
      "                   healthy       1.00      1.00      1.00        58\n",
      "  few varrao, hive beetles       0.96      0.91      0.94        58\n",
      "Varroa, Small Hive Beetles       0.90      0.96      0.93        47\n",
      "              ant problems       1.00      1.00      1.00        46\n",
      "         hive being robbed       1.00      1.00      1.00        25\n",
      "             missing queen       1.00      1.00      1.00         3\n",
      "\n",
      "                  accuracy                           0.97       237\n",
      "                 macro avg       0.98      0.98      0.98       237\n",
      "              weighted avg       0.97      0.97      0.97       237\n",
      "\n"
     ]
    }
   ],
   "source": [
    "from sklearn.metrics import classification_report\n",
    "\n",
    "# Generate a classification report\n",
    "\n",
    "names = ['healthy', 'few varrao, hive beetles', 'Varroa, Small Hive Beetles', \n",
    "               'ant problems', 'hive being robbed','missing queen']\n",
    "\n",
    "report = classification_report(y_true, y_pred, target_names=names)\n",
    "\n",
    "print(report)"
   ]
  },
  {
   "cell_type": "code",
   "execution_count": null,
   "id": "d6287a0d",
   "metadata": {},
   "outputs": [],
   "source": []
  }
 ],
 "metadata": {
  "kernelspec": {
   "display_name": "Python 3 (ipykernel)",
   "language": "python",
   "name": "python3"
  },
  "language_info": {
   "codemirror_mode": {
    "name": "ipython",
    "version": 3
   },
   "file_extension": ".py",
   "mimetype": "text/x-python",
   "name": "python",
   "nbconvert_exporter": "python",
   "pygments_lexer": "ipython3",
   "version": "3.8.12"
  }
 },
 "nbformat": 4,
 "nbformat_minor": 5
}
